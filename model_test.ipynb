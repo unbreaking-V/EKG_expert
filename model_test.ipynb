{
 "cells": [
  {
   "cell_type": "code",
   "execution_count": 69,
   "metadata": {},
   "outputs": [],
   "source": [
    "import torch\n",
    "import numpy as np\n",
    "import pandas as pd\n",
    "from resnet1d.resnet1d import ResNet1D\n",
    "from sklearn import preprocessing\n",
    "from collections import Counter"
   ]
  },
  {
   "cell_type": "code",
   "execution_count": 70,
   "metadata": {},
   "outputs": [],
   "source": [
    "NUM_CLASSES = 2 # 2 or 5"
   ]
  },
  {
   "cell_type": "code",
   "execution_count": 71,
   "metadata": {},
   "outputs": [],
   "source": [
    "device = torch.device(\"cuda\" if torch.cuda.is_available() else \"cpu\")"
   ]
  },
  {
   "cell_type": "code",
   "execution_count": 72,
   "metadata": {},
   "outputs": [],
   "source": [
    "i2l = {'N':0, 'S':1, 'V':2, 'F':3, 'Q':4} # for 5 class model"
   ]
  },
  {
   "cell_type": "code",
   "execution_count": 73,
   "metadata": {},
   "outputs": [],
   "source": [
    "model = ResNet1D(\n",
    "        in_channels=1, \n",
    "        base_filters=128, \n",
    "        kernel_size=16, \n",
    "        stride=2, \n",
    "        groups=8, \n",
    "        n_block=8, \n",
    "        n_classes=NUM_CLASSES,\n",
    "        downsample_gap=2, \n",
    "        increasefilter_gap=4, \n",
    "        use_do=False)"
   ]
  },
  {
   "cell_type": "code",
   "execution_count": 74,
   "metadata": {},
   "outputs": [],
   "source": [
    "if NUM_CLASSES == 2:\n",
    "    model.load_state_dict(torch.load(\"model-2c.pth\", weights_only=True))\n",
    "elif NUM_CLASSES == 5:\n",
    "    model.load_state_dict(torch.load(\"model-5c.pth\", weights_only=True))\n",
    "else:\n",
    "    raise RuntimeError()\n",
    "model.eval()\n",
    "model = model.to(device)\n",
    "torch.save(model, 'model.pkl')  # save the model"
   ]
  },
  {
   "cell_type": "code",
   "execution_count": 75,
   "metadata": {},
   "outputs": [
    {
     "name": "stdout",
     "output_type": "stream",
     "text": [
      "tensor([[-0.8327,  1.4708]], device='cuda:0', grad_fn=<AddmmBackward0>)\n",
      "tensor(1, device='cuda:0')\n"
     ]
    }
   ],
   "source": [
    "input = torch.rand([1, 1, 360], dtype=torch.float).to(device)\n",
    "output = model(input)\n",
    "print(output)\n",
    "print(output.argmax())"
   ]
  },
  {
   "cell_type": "code",
   "execution_count": 76,
   "metadata": {},
   "outputs": [
    {
     "name": "stdout",
     "output_type": "stream",
     "text": [
      "0          995\n",
      "1          995\n",
      "2          995\n",
      "3          995\n",
      "4          995\n",
      "          ... \n",
      "649995    1009\n",
      "649996     935\n",
      "649997     889\n",
      "649998     871\n",
      "649999     768\n",
      "Name: 'MLII', Length: 650000, dtype: int64\n",
      "0         1003\n",
      "1         1003\n",
      "2         1003\n",
      "3         1003\n",
      "4         1003\n",
      "          ... \n",
      "649995     979\n",
      "649996     985\n",
      "649997     990\n",
      "649998     992\n",
      "649999    1024\n",
      "Name: 'MLII', Length: 650000, dtype: int64\n"
     ]
    }
   ],
   "source": [
    "df_100 = pd.read_csv('100.csv') # healthy\n",
    "df_208 = pd.read_csv('208.csv') # unhealthy\n",
    "print(df_100['\\'MLII\\''])\n",
    "print(df_208['\\'MLII\\''])"
   ]
  },
  {
   "cell_type": "code",
   "execution_count": 77,
   "metadata": {},
   "outputs": [],
   "source": [
    "def preprocess(np_input):\n",
    "    np_prep = np_input[np_input.size % 360:]\n",
    "    np_prep = np_prep.reshape(-1, 360)\n",
    "    np_prep = preprocessing.scale(np_prep, axis=1)\n",
    "    np_prep = np.expand_dims(np_prep, 1)\n",
    "    return np_prep"
   ]
  },
  {
   "cell_type": "code",
   "execution_count": 78,
   "metadata": {},
   "outputs": [],
   "source": [
    "def predict(np_input):\n",
    "    np_prep = preprocess(np_input)\n",
    "    model_input = torch.tensor(np_prep, dtype=torch.float).to(device)\n",
    "    batch_size = 64\n",
    "    predictions = []\n",
    "    for i in range(0, len(model_input), batch_size):\n",
    "        # Extract the current batch\n",
    "        batch = model_input[i:i+batch_size]\n",
    "        \n",
    "        # Perform model inference\n",
    "        output = model(batch)\n",
    "        predictions.extend(output.argmax(dim=1).cpu().numpy().tolist())\n",
    "    return Counter(predictions)"
   ]
  },
  {
   "cell_type": "code",
   "execution_count": 79,
   "metadata": {},
   "outputs": [
    {
     "data": {
      "text/plain": [
       "Counter({0: 1804, 1: 1})"
      ]
     },
     "execution_count": 79,
     "metadata": {},
     "output_type": "execute_result"
    }
   ],
   "source": [
    "predict(df_100['\\'MLII\\''].to_numpy())"
   ]
  },
  {
   "cell_type": "code",
   "execution_count": 80,
   "metadata": {},
   "outputs": [
    {
     "data": {
      "text/plain": [
       "Counter({0: 1186, 1: 619})"
      ]
     },
     "execution_count": 80,
     "metadata": {},
     "output_type": "execute_result"
    }
   ],
   "source": [
    "predict(df_208['\\'MLII\\''].to_numpy())"
   ]
  }
 ],
 "metadata": {
  "kernelspec": {
   "display_name": "Python 3",
   "language": "python",
   "name": "python3"
  },
  "language_info": {
   "codemirror_mode": {
    "name": "ipython",
    "version": 3
   },
   "file_extension": ".py",
   "mimetype": "text/x-python",
   "name": "python",
   "nbconvert_exporter": "python",
   "pygments_lexer": "ipython3",
   "version": "3.9.4"
  }
 },
 "nbformat": 4,
 "nbformat_minor": 2
}
